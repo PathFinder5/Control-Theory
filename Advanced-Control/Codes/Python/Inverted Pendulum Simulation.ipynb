{
 "cells": [
  {
   "cell_type": "code",
   "execution_count": 1,
   "metadata": {
    "collapsed": true
   },
   "outputs": [],
   "source": [
    "import numpy as np # Basic python numeric library\n",
    "import control as ctrl # Control systems library\n",
    "import matplotlib.pyplot as plt # Python plots library\n",
    "from scipy.constants import g # Gravity\n",
    "%matplotlib inline"
   ]
  },
  {
   "cell_type": "markdown",
   "metadata": {},
   "source": [
    "# Problem's Description\n",
    "\n",
    "\n",
    "## Dynamic Equations\n",
    "\n",
    "The inverted pendulum problem can be described by Figure\n",
    "\n",
    "<img src=\"images/CartPole.png\">\n",
    "\n",
    "In order to use our formalism, we need to find the total kinectic and potential energy in the system. We identify the following quantities:\n",
    "\t\t\t\n",
    "\\begin{align}\n",
    "\tT_{1} &= \\dfrac{1}{2}Mv_{1}^{2}\\\\\n",
    "\tT_{2} &= \\dfrac{1}{2}mv_{2}^{2}\\\\\n",
    "\tV &= mg\\ell cos(\\theta)\n",
    "\\end{align}\n",
    "\n",
    "Where $T_{1}$ stands for the kinetic energy of the cart, $T_{2}$, the kinetic energy of the pole, and $V$, the potential energy of the pole. The lagrangian, thus, takes the form:\n",
    "\n",
    "\\begin{align}\n",
    "\tL &= \\dfrac{1}{2}Mv_{1}^{2} + \\dfrac{1}{2}mv_{2}^{2} - mg\\ell cos(\\theta)\n",
    "\\end{align}\n",
    "\n",
    "Now, we want to rewrite this equation in terms of state variables $(x,\\theta)$. This can be done through:\n",
    "\n",
    "\\begin{align}\n",
    "\t\t\t\tv_{1}^{2} &= \\dot{x}^{2}\\\\\n",
    "\t\t\t\tv_{2}^{2} &= (\\dfrac{d}{dt} (x-\\ell sin(\\theta)))^{2} + (\\dfrac{d}{dt}\\ell cos(\\theta))^{2}\\\\\n",
    "\t\t\t\t\t\t&= (\\dot{x} - \\ell\\dot{\\theta}cos(\\theta))^{2} + (\\ell\\dot{\\theta}sin(\\theta))^{2}\\\\\n",
    "\t\t\t\t\t\t&= \\dot{x} - 2\\ell\\dot{x}\\dot{\\theta}cos(\\theta) + \\ell^{2}\\dot{\\theta}^{2}cos(\\theta)^{2} + \\ell^{2}\\dot{\\theta}^{2}sin(\\theta)^{2}\\\\\n",
    "\t\t\t\t\t\t&= \\dot{x} - 2\\ell\\dot{x}\\dot{\\theta}cos(\\theta) + \\ell^{2}\\dot{\\theta}^{2}\n",
    "\t\t\t\\end{align}\n",
    "            \n",
    "Thus, the Lagrangian takes the form:\n",
    "\n",
    "We will apply the Euler Lagrange Equations to this later equation twice: one for $x,\\dot{x}$, and another for $\\theta,\\dot{\\theta}$:\n",
    "\t\t\t\n",
    "\\begin{align}\n",
    "\t\\dfrac{\\partial L}{\\partial x} &= 0\\\\\n",
    "\t\\dfrac{\\partial L}{\\partial \\dot{x}} &= (M+m)\\dot{x} - m\\ell\\dot{\\theta}cos(\\theta)\\\\\n",
    "\t\\dfrac{\\partial L}{\\partial \\theta} &= m\\ell\\dot{x}\\dot{\\theta}sin(\\theta) + mg\\ell sin(\\theta)\\\\\n",
    "\t\\dfrac{\\partial L}{\\partial \\dot{\\theta}} &= -m\\ell\\dot{x}cos(\\theta) + m\\ell^{2}\\dot{\\theta}\n",
    "\\end{align}\n",
    "\n",
    "Then,\n",
    "\n",
    "\\begin{align}\n",
    "\t\t\t\t\\dfrac{d}{dt}\\dfrac{\\partial L}{\\partial \\dot{x}} - \\dfrac{\\partial L}{\\partial x} &= (M+m)\\ddot{x} - m\\ell\\ddot{\\theta}cos(\\theta) + m\\ell\\dot{\\theta}^{2}sin(\\theta) \\\\\n",
    "\t\t\t\t\\dfrac{d}{dt}\\dfrac{\\partial L}{\\partial \\dot{\\theta}} - \\dfrac{\\partial L}{\\partial \\theta} &= -m\\ell\\ddot{x}cos(\\theta) + m\\ell\\dot{x}\\dot{\\theta}sin(\\theta) + m\\ell^{2}\\ddot{\\theta} - m\\ell\\dot{x}\\dot{\\theta}sin(\\theta) - mg\\ell sin(\\theta)\n",
    "\t\t\t\\end{align}\n",
    "            \n",
    "Specially, we know that $\\dfrac{d}{dt}\\dfrac{\\partial L}{\\partial \\dot{x}} - \\dfrac{\\partial L}{\\partial x} = F - b\\dot{x}$ and $\\dfrac{d}{dt}\\dfrac{\\partial L}{\\partial \\dot{\\theta}} - \\dfrac{\\partial L}{\\partial \\theta} = 0$, being $F$ the driving force in the cart, and $b$, the friction coefficient. After some simplifications, we arrive at the following equations:\n",
    "\n",
    "\\begin{align}\n",
    "\t\t\t\t(M+m)\\ddot{x} + b\\dot{x} - m\\ell\\ddot{\\theta}cos(\\theta) + m\\ell\\dot{\\theta}^{2}sin(\\theta) = F\\\\\n",
    "\t\t\t\t-m\\ell\\ddot{x}cos(\\theta) + m\\ell^{2}\\ddot{\\theta} - mg\\ell sin(\\theta) = 0\n",
    "\\end{align}"
   ]
  },
  {
   "cell_type": "markdown",
   "metadata": {},
   "source": [
    "## Linearization and State Space\n",
    "\n",
    "Since we want to stabilize these equations around $\\pi$, consider values of $\\theta$ around it, that is, $\\theta = \\pi + \\delta\\theta$. Then,\n",
    "\t\t\t\n",
    "\\begin{align}\n",
    "\t\t\t\tsin(\\pi+\\delta\\theta) &= - \\delta\\theta\\\\\n",
    "\t\t\t\tcos(\\pi+\\delta\\theta) &= -1\\\\\n",
    "\t\t\t\t(\\delta\\dot{\\theta})^{2} &= 0\n",
    "\\end{align}\n",
    "            \n",
    "With those approximations, we arrive at:\n",
    "\t\t\t\n",
    "\\begin{align}\n",
    "\t(M+m)\\ddot{x} + b\\dot{x} + m\\ell\\delta\\ddot{\\theta} = F\\\\\n",
    "\tm\\ell\\ddot{x} + m\\ell^{2}\\delta\\ddot{\\theta} + mg\\ell\\delta\\theta = 0\n",
    "\\end{align}\n",
    "\t\t\t\n",
    "Solving for $\\delta\\ddot{\\theta}$ and reapplying to find $\\ddot{x}$,\n",
    "\t\t\t\n",
    "\\begin{align}\n",
    "\t\t\t\t(M+m)\\ddot{x} + b\\dot{x} - m\\ell(\\dfrac{1}{\\ell}\\ddot{x} + \\dfrac{g}{\\ell}\\delta\\theta) = F\\\\\n",
    "\t\t\t\t(M+m)\\ddot{x} - m\\ddot{x} = F - b\\dot{x} + mg\\delta\\theta\\\\\n",
    "\t\t\t\t\\ddot{x} = \\dfrac{1}{M}F - \\dfrac{b}{M}\\dot{x} + \\dfrac{mg}{M}\\delta\\theta\n",
    "\\end{align}\n",
    "\t\t\t\n",
    "Reapplying $\\ddot{x}$ and solving for $\\delta\\ddot{\\theta}$,\n",
    "\t\t\t\n",
    "\\begin{align}\n",
    "\t\t\t\tm\\ell(\\dfrac{1}{M}F - \\dfrac{b}{M}\\dot{x} + \\dfrac{mg}{M}\\delta\\theta) + m\\ell^{2}\\delta\\ddot{\\theta} + mg\\ell\\delta\\theta = 0\\\\\n",
    "\t\t\t\t\\dfrac{m\\ell}{M}F - \\dfrac{m\\ell b}{M}\\dot{x} + \\dfrac{m^{2}\\ell g}{M}\\delta\\theta + m\\ell^{2}\\delta\\ddot{\\theta} + mg\\ell\\delta\\theta = 0\\\\\n",
    "\t\t\t\t\\delta\\ddot{\\theta} = \\dfrac{b}{M\\ell}\\dot{x} - \\dfrac{(M+m)g}{M\\ell}\\delta\\theta - \\dfrac{1}{M\\ell}F\n",
    "\\end{align}\n",
    " \t\t\t\n",
    "With those equations, we can write our state-space model as:\n",
    " \t\t\t\n",
    "\\begin{align}\n",
    "\t \t\t\t\\begin{bmatrix}\n",
    "\t\t \t\t\t\\dot{x}\\\\\n",
    "\t\t \t\t\t\\ddot{x}\\\\\n",
    "\t\t \t\t\t\\dot{\\theta}\\\\\n",
    "\t\t \t\t\t\\ddot{\\theta}\n",
    "\t \t\t\t\\end{bmatrix} &= \\begin{bmatrix}\n",
    "\t\t \t\t\t0 & 1 & 0 & 0\\\\\n",
    "\t\t \t\t\t0 & -\\dfrac{b}{M} & \\dfrac{mg}{M} & 0\\\\\n",
    "\t\t \t\t\t0 & 0 & 0 & 1\\\\\n",
    "\t\t \t\t\t0 & \\dfrac{b}{M\\ell} & - \\dfrac{(M+m)g}{M\\ell} & 0\n",
    "\t \t\t\t\\end{bmatrix}\\begin{bmatrix}\n",
    "\t\t \t\t\tx\\\\\n",
    "\t\t \t\t\t\\dot{x}\\\\\n",
    "\t\t \t\t\t\\theta\\\\\n",
    "\t\t \t\t\t\\dot{\\theta}\n",
    "\t \t\t\t\\end{bmatrix}+\\begin{bmatrix}\n",
    "\t\t \t\t\t0\\\\\n",
    "\t\t \t\t\t\\dfrac{1}{M}\\\\\n",
    "\t\t \t\t\t0\\\\\n",
    "\t\t \t\t\t\\dfrac{-1}{M\\ell}\n",
    "\t \t\t\t\\end{bmatrix}F\\\\\n",
    "\t \t\t\t\\begin{bmatrix}\n",
    "\t\t \t\t\tx_{1}\\\\\n",
    "\t\t \t\t\tx_{3}\n",
    "\t \t\t\t\\end{bmatrix} &= \\begin{bmatrix}\n",
    "\t\t \t\t\t1 & 0 & 0 & 0\\\\\n",
    "\t\t \t\t\t0 & 1 & 0 & 0\n",
    "\t \t\t\t\\end{bmatrix}\\begin{bmatrix}\n",
    "\t\t \t\t\tx_{1}\\\\\n",
    "\t\t \t\t\tx_{2}\\\\\n",
    "\t\t \t\t\tx_{3}\\\\\n",
    "\t\t \t\t\tx_{4}\n",
    "\t \t\t\t\\end{bmatrix} + \\begin{bmatrix}\n",
    "\t\t \t\t\t0\\\\\n",
    "\t\t \t\t\t0\n",
    "\t \t\t\t\\end{bmatrix}F\n",
    "\\end{align}"
   ]
  },
  {
   "cell_type": "markdown",
   "metadata": {},
   "source": [
    "## Frequency Representation\n",
    "\n",
    "We employ the Laplace Transform in order to represent our system in the frequency domain. Using the notation $u(t) = F(t)$, we have:\n",
    "\n",
    "\\begin{align}\n",
    "\t\t \t\t(M+m)s^{2}X(s) + bsX(s) + m\\ell s^{2}\\Theta(s) &= U(s)\\\\\n",
    "\t\t \t\t\\dfrac{U(s)}{(M+m)s^{2} + bs} - \\dfrac{m\\ell s^{2}\\Theta(s)}{(M+m)s^{2} + bs} & =X(s)\\\\\n",
    "\t \t\t\tm\\ell s^{2}X(s) + m\\ell^{2}s^{2}\\Theta(s) + mg\\ell \\Theta(s) &= 0\\\\\n",
    "\t \t\t\t-\\dfrac{\\ell s^{2} + g}{ s^{2}}\\Theta(s) &= X(s)\n",
    "\\end{align}\n",
    "\n",
    "Those equations indeed imply the following relationship:\n",
    "\t \t\t\n",
    "\\begin{align}\n",
    "\t\t \t\t\\dfrac{U(s)}{(M+m)s^{2} + bs} - \\dfrac{m\\ell s^{2}}{(M+m)s^{2} + bs}\\Theta(s) &= -\\dfrac{\\ell s^{2} + g}{ s^{2}}\\Theta(s)\\\\\n",
    "\t\t \t\t\\dfrac{m\\ell s^{4} - (M+m)\\ell s^{2} - (M+m)g s^{2} - \\ell b s^{3} + bg s }{((M+m)s^{2} + bs) s^{2}}\\Theta(s) &= \\dfrac{1}{(M+m)s^{2} + bs}U(s)\n",
    "\\end{align}\n",
    "\n",
    "By considering $K = - (M+m)m\\ell^{2}$, we can express our transfer function as:\n",
    "\n",
    "\\begin{align}\n",
    "\t\t \t\t\\mathcal{H}(s) = \\dfrac{\\Theta(s)}{U(s)} = \\dfrac{-\\dfrac{s}{M\\ell}}{s^{3} + \\dfrac{b}{M} s^{2} + \\dfrac{(M+m)g}{M\\ell} s - \\dfrac{bg}{M\\ell}}\n",
    "\\end{align}\n",
    "\n",
    "As a matter of effect, to control the system we shall introduce a controller, such that its function on the frequency domain is given by $\\mathcal{C}(s)$. By applying feedback, we shall have the following transfer function:\n",
    "\n",
    "\\begin{align}\n",
    "    T(s) = \\dfrac{\\Theta(s)}{F(s)} = \\dfrac{\\mathcal{H}}{1+\\mathcal{H}\\mathcal{C}}\n",
    "\\end{align}"
   ]
  },
  {
   "cell_type": "markdown",
   "metadata": {},
   "source": [
    "## Simulation"
   ]
  },
  {
   "cell_type": "code",
   "execution_count": 2,
   "metadata": {
    "collapsed": true
   },
   "outputs": [],
   "source": [
    "\"\"\"\n",
    "    System's constants\n",
    "\"\"\"\n",
    "\n",
    "M = 0.5\n",
    "m = 0.2\n",
    "b = 0.1\n",
    "l = 0.3"
   ]
  },
  {
   "cell_type": "code",
   "execution_count": 3,
   "metadata": {
    "collapsed": true
   },
   "outputs": [],
   "source": [
    "\"\"\"\n",
    "    Transfer Function\n",
    "\"\"\"\n",
    "\n",
    "Hnum = [-1/(M*l), 0]\n",
    "Hden = [1, b/M, ((M+m)*g)/(M*l), -(b*g)/(M*l)]\n",
    "H = ctrl.TransferFunction(Hnum,Hden)"
   ]
  },
  {
   "cell_type": "code",
   "execution_count": 21,
   "metadata": {
    "collapsed": true
   },
   "outputs": [],
   "source": [
    "\"\"\"\n",
    "    PID controller\n",
    "\"\"\"\n",
    "\n",
    "Kp = 0\n",
    "Kd = 5\n",
    "Ki = 2\n",
    "\n",
    "Cnum = [Kd, Kp, Ki]\n",
    "Cden = [-1,0]\n",
    "C = ctrl.TransferFunction(Cnum,Cden)"
   ]
  },
  {
   "cell_type": "code",
   "execution_count": 22,
   "metadata": {},
   "outputs": [
    {
     "data": {
      "text/plain": [
       "Text(0.5,0,'Time t [sec]')"
      ]
     },
     "execution_count": 22,
     "metadata": {},
     "output_type": "execute_result"
    },
    {
     "data": {
      "image/png": "[encoded data removed]",
      "text/plain": [
       "<matplotlib.figure.Figure at 0x7f87d13a1940>"
      ]
     },
     "metadata": {},
     "output_type": "display_data"
    }
   ],
   "source": [
    "\"\"\"\n",
    "    Simulation\n",
    "\"\"\"\n",
    "\n",
    "t = np.arange(0,20,0.01)\n",
    "Transfer_Function = ctrl.feedback(H,C)\n",
    "(T, Theta) = ctrl.impulse_response(Transfer_Function,T = t)\n",
    "\n",
    "plt.figure()\n",
    "plt.plot(T, Theta, 'k-')\n",
    "plt.title('Simulation of the system response')\n",
    "plt.ylabel(r'Angle deviation $\\delta\\theta$ [rad]')\n",
    "plt.grid(True)\n",
    "plt.xlabel('Time t [sec]')"
   ]
  },
  {
   "cell_type": "code",
   "execution_count": 23,
   "metadata": {},
   "outputs": [
    {
     "data": {
      "image/png": "[encoded data removed]",
      "text/plain": [
       "<matplotlib.figure.Figure at 0x7f87d16b68d0>"
      ]
     },
     "metadata": {},
     "output_type": "display_data"
    }
   ],
   "source": [
    "\"\"\"\n",
    "    Derivative Evaluation\n",
    "\"\"\"\n",
    "dTheta = np.zeros((len(Theta),))\n",
    "for i in range(len(Theta)-1):\n",
    "    dTheta[i+1] = Theta[i+1] - Theta[i]\n",
    "\n",
    "plt.figure()\n",
    "plt.plot(Theta[1:],dTheta[1:], 'k-')\n",
    "plt.title('Phase plot')\n",
    "plt.ylabel(r'Angular velocity $\\dot{\\theta}$ [rad/s]')\n",
    "plt.xlabel(r'Angle deviation $\\delta\\theta$ [rad]')\n",
    "plt.grid(True)"
   ]
  },
  {
   "cell_type": "code",
   "execution_count": 24,
   "metadata": {},
   "outputs": [
    {
     "data": {
      "image/png": "[encoded data removed]",
      "text/plain": [
       "<matplotlib.figure.Figure at 0x7f87d16b65f8>"
      ]
     },
     "metadata": {},
     "output_type": "display_data"
    }
   ],
   "source": [
    "rlist, klist = ctrl.root_locus(Transfer_Function)"
   ]
  },
  {
   "cell_type": "code",
   "execution_count": null,
   "metadata": {
    "collapsed": true
   },
   "outputs": [],
   "source": []
  }
 ],
 "metadata": {
  "kernelspec": {
   "display_name": "Python 3",
   "language": "python",
   "name": "python3"
  },
  "language_info": {
   "codemirror_mode": {
    "name": "ipython",
    "version": 3
   },
   "file_extension": ".py",
   "mimetype": "text/x-python",
   "name": "python",
   "nbconvert_exporter": "python",
   "pygments_lexer": "ipython3",
   "version": "3.6.3"
  }
 },
 "nbformat": 4,
 "nbformat_minor": 2
}
