{
 "cells": [
  {
   "cell_type": "code",
   "execution_count": 1,
   "metadata": {
    "collapsed": true
   },
   "outputs": [],
   "source": [
    "import numpy as np # Basic python numeric library\n",
    "import control as ctrl # Control systems library\n",
    "import matplotlib.pyplot as plt # Python plots library\n",
    "%matplotlib inline"
   ]
  },
  {
   "cell_type": "markdown",
   "metadata": {},
   "source": [
    "# Exercise 1:\n",
    "\n",
    "Consider the following transfer function:\n",
    "\n",
    "\\begin{align}\n",
    "    T(s) &= \\dfrac{s}{(s+4)(s+8)}\n",
    "\\end{align}\n",
    "\n",
    "* Find the impulse response of the system\n",
    "* Find the ramp response of the system\n",
    "\n",
    "## Solution\n",
    "\n",
    "__Impulse Response__\n",
    "\n",
    "First, we know that as impulse we mean the Dirac's Delta function, $\\delta(t)$. A simple computation implies that\n",
    "\n",
    "\\begin{align}\n",
    "    \\mathcal{L}\\{\\delta\\}(s) &= \\int_{0}^{\\infty}e^{-st}\\delta(t)dt\\\\\n",
    "                             &= e^{-s\\cdot 0} = 1\n",
    "\\end{align}\n",
    "\n",
    "Thus, the laplace transform of $\\delta$ is 1. Moreover, we can express our output as:\n",
    "\n",
    "\\begin{align}\n",
    "    T(s) &= \\dfrac{Y(s)}{U(s)}\\\\\n",
    "    Y(s) &= U(s)T(s)\n",
    "\\end{align}\n",
    "\n",
    "Being $u(t) = \\delta(t)$, $U(s) = 1$, and thus $Y(s) = T(s)$. Applying the inverse laplace transform:\n",
    "\n",
    "\\begin{align}\n",
    "    y(t) &= \\mathcal{L}^{-1}\\biggr\\{\\dfrac{s}{(s+4)(s+8)} \\biggr\\}\n",
    "\\end{align}\n",
    "\n",
    "In order to solve this later equation, we need to expand it in partial fractions, that is:\n",
    "\n",
    "\\begin{align}\n",
    "    \\dfrac{s}{(s+4)(s+8)} &= \\biggr(\\dfrac{A}{s+4} + \\dfrac{B}{s+8}\\biggr)\\\\\n",
    "                          &= \\biggr(\\dfrac{(A+B)s + (8A + 4B)}{(s+4)(s+8)}\\biggr)\n",
    "\\end{align}\n",
    "\n",
    "From these, we conclude that:\n",
    "\n",
    "\\begin{align}\n",
    "    1A + 1B &= 1\\\\\n",
    "    8A + 4B &= 0\n",
    "\\end{align}\n",
    "\n",
    "Which has as solution $(A,B) = (-1,2)$, therefore:\n",
    "\n",
    "\\begin{align}\n",
    "    y(t) &= \\mathcal{L}^{-1}\\biggr\\{\\dfrac{2}{s+8} + \\dfrac{1}{s+4}\\biggr\\}\\\\\n",
    "         &= 2\\mathcal{L}^{-1}\\biggr\\{\\dfrac{1}{s+8}\\biggr\\} - \\mathcal{L}^{-1}\\biggr\\{\\dfrac{1}{s+4}\\biggr\\}\\\\\n",
    "         &= 2e^{-8t} - e^{-4t}\n",
    "\\end{align}\n",
    "\n",
    "__Ramp Response__\n",
    "\n",
    "If $u(t)$ is a ramp, $u(t) = t\\theta(t)$, where $\\theta(t)$ is the step function. Thus:\n",
    "\n",
    "\\begin{align}\n",
    "    U(s) &= \\int_{-\\infty}^{+\\infty}te^{-st}u(t)dt\\\\\n",
    "         &= \\int_{0}^{\\infty}te^{-st}dt\\\\\n",
    "         &= -\\dfrac{t}{s}e^{-st}\\biggr|_{t = 0}^{t = \\infty} + \\dfrac{1}{s}\\int_{0}^{\\infty}e^{-st}dt\\\\\n",
    "         &= \\dfrac{1}{s}\\int_{0}^{\\infty}e^{-st}dt\\\\\n",
    "         &= \\dfrac{1}{s^{2}}\n",
    "\\end{align}\n",
    "\n",
    "Where from the second to the third equation we have used integration by parts with $u = t, dv = e^{-st}dt$. Therefore, we can again use this to compute our output:\n",
    "\n",
    "\\begin{align}\n",
    "    y(t) &= \\mathcal{L}^{-1}\\biggr\\{\\dfrac{1}{s^{2}}\\dfrac{s}{(s+4)(s+8)}\\biggr\\}\\\\\n",
    "         &= \\mathcal{L}^{-1}\\biggr\\{\\dfrac{1}{s(s+4)(s+8)}\\biggr\\}\\\\\n",
    "         &= \\dfrac{1}{32}\\mathcal{L}^{-1}\\biggr\\{\\dfrac{1}{s}\\biggr\\} + \\dfrac{1}{32}\\mathcal{L}^{-1}\\biggr\\{\\dfrac{1}{s+8}\\biggr\\} - \\dfrac{1}{16}\\mathcal{L}^{-1}\\biggr\\{\\dfrac{1}{s+4}\\biggr\\}\\\\\n",
    "         &= \\dfrac{1}{32}\\biggr(1 + e^{-8t} - 2e^{-4t} \\biggr)\n",
    "\\end{align}\n",
    "\n",
    "_Remark:_ take a close look into those two examples, and pay attention in how our decomposition managed to separate the roots of the polynomial $\\xi(s) = s(s+4)(s+8)$, namely, the poles of the system. Can you generalize this results for a output whose frequency representation is $Y(s) = \\biggr(\\prod_{i=1}^{n}(s+p_{n}) \\biggr)^{-1}$?\n",
    "\n",
    "## Verifying the answers\n",
    "\n",
    "We start by plotting our analytical answers, that is,"
   ]
  },
  {
   "cell_type": "code",
   "execution_count": 31,
   "metadata": {
    "collapsed": true
   },
   "outputs": [],
   "source": [
    "## Analytical answers\n",
    "t = np.arange(0,3,0.03)\n",
    "y_impulse = (2*np.exp(-8*t) - np.exp(-4*t))\n",
    "y_ramp = (1/32)*(1 + np.exp(-8*t) - 2*np.exp(-4*t))"
   ]
  },
  {
   "cell_type": "code",
   "execution_count": 32,
   "metadata": {},
   "outputs": [
    {
     "data": {
      "image/png": "[encoded data removed]",
      "text/plain": [
       "<matplotlib.figure.Figure at 0x7f4e53baa908>"
      ]
     },
     "metadata": {},
     "output_type": "display_data"
    }
   ],
   "source": [
    "plt.figure()\n",
    "plt.title('Analytical Impulse Response')\n",
    "plt.ylabel('y(t)')\n",
    "plt.xlabel('t')\n",
    "plt.plot(t,y_impulse,'k-')\n",
    "plt.grid()"
   ]
  },
  {
   "cell_type": "code",
   "execution_count": 14,
   "metadata": {},
   "outputs": [
    {
     "data": {
      "image/png": "[encoded data removed]",
      "text/plain": [
       "<matplotlib.figure.Figure at 0x7f4e5b136c18>"
      ]
     },
     "metadata": {},
     "output_type": "display_data"
    }
   ],
   "source": [
    "plt.figure()\n",
    "plt.title('Analytical Ramp Response')\n",
    "plt.ylabel('y(t)')\n",
    "plt.xlabel('t')\n",
    "plt.plot(t,y_ramp,'k-')\n",
    "plt.grid()"
   ]
  },
  {
   "cell_type": "markdown",
   "metadata": {},
   "source": [
    "Now, we use the control library in order to display how we can easily simulate frequency responses."
   ]
  },
  {
   "cell_type": "code",
   "execution_count": 17,
   "metadata": {},
   "outputs": [
    {
     "name": "stdout",
     "output_type": "stream",
     "text": [
      "\n",
      "       s\n",
      "---------------\n",
      "s^2 + 12 s + 32\n",
      "\n"
     ]
    }
   ],
   "source": [
    "Tnum = [1, 0]\n",
    "Tden = [1, 12, 32]\n",
    "T = ctrl.tf(Tnum,Tden)\n",
    "print(T)"
   ]
  },
  {
   "cell_type": "markdown",
   "metadata": {},
   "source": [
    "__Remark:__ we have expanded (s+4)(s+8) into $s^{2} + 12s + 32$. Here, we have represented the transfer function with help of our library. To simulate how the system reacts to an impulse function,"
   ]
  },
  {
   "cell_type": "code",
   "execution_count": 26,
   "metadata": {},
   "outputs": [
    {
     "data": {
      "image/png": "[encoded data removed]",
      "text/plain": [
       "<matplotlib.figure.Figure at 0x7f4e53ccf128>"
      ]
     },
     "metadata": {},
     "output_type": "display_data"
    }
   ],
   "source": [
    "(_,impulse_y,) = ctrl.impulse_response(T, T = t)\n",
    "\n",
    "plt.figure()\n",
    "plt.title('Simulated Impulse Response')\n",
    "plt.ylabel('y(t)')\n",
    "plt.xlabel('t')\n",
    "plt.plot(t,impulse_y,'k-')\n",
    "plt.grid()"
   ]
  },
  {
   "cell_type": "code",
   "execution_count": 37,
   "metadata": {},
   "outputs": [
    {
     "data": {
      "image/png": "[encoded data removed]",
      "text/plain": [
       "<matplotlib.figure.Figure at 0x7f4e53be3400>"
      ]
     },
     "metadata": {},
     "output_type": "display_data"
    }
   ],
   "source": [
    "(_,ramp_y,_) = ctrl.forced_response(T, T = t, U = t)\n",
    "\n",
    "plt.figure()\n",
    "plt.title('Simulated ramp Response')\n",
    "plt.ylabel('y(t)')\n",
    "plt.xlabel('t')\n",
    "plt.plot(t,ramp_y,'k-')\n",
    "plt.grid()"
   ]
  },
  {
   "cell_type": "markdown",
   "metadata": {},
   "source": [
    "As you can see, both approaches yields the same results."
   ]
  },
  {
   "cell_type": "markdown",
   "metadata": {},
   "source": [
    "# Exercise 2:\n",
    "\n",
    "Transform the following transfer functions into differential equations:\n",
    "\n",
    "* a. $G(s) = \\dfrac{7}{s^{2}+5s+10}$\n",
    "* b. $G(s) = \\dfrac{15}{(s+10)(s+10)}$\n",
    "* c. $G(s) = \\dfrac{s+3}{s^{3} + 11s^{2} + 12s + 18}$\n",
    "\n",
    "Reminding that each $G(s) = \\dfrac{Y(s)}{U(s)}$,\n",
    "\n",
    "__Transfer Function a.__\n",
    "\n",
    "\\begin{align}\n",
    "    (s^{2}+5s+10)Y(s) &= 7U(s)\\\\\n",
    "    s^{2}Y(s) + 5sY(s) + 10Y(s) &= 7U(s)\\\\\n",
    "    \\mathcal{L}^{-1}\\{s^{2}Y(s) + 5sY(s) + 10Y(s)\\} &= 7u(t)\\\\\n",
    "    \\mathcal{L}^{-1}\\{s^{2}Y(s)\\} + 5\\mathcal{L}^{-1}\\{sY(s)\\} + 10\\mathcal{L}^{-1}\\{Y(s)\\} &= 7u(t)\\\\\n",
    "    \\ddot{y}(t) + 5\\dot{y}(t) + 10y(t) &= 7u(t)\n",
    "\\end{align}\n",
    "\n",
    "__Transfer Function b.__\n",
    "\n",
    "\\begin{align}\n",
    "    \\mathcal{L}^{-1}\\{(s+10)(s+10)Y(s)\\} &= 15u(t)\\\\\n",
    "    \\mathcal{L}^{-1}\\{(s^{2}+20s+100)Y(s)\\} &= 15u(t)\\\\\n",
    "    \\ddot{y} + 20\\dot{y} + 100y &= 15u\n",
    "\\end{align}\n",
    "\n",
    "__Transfer Function c.__\n",
    "\n",
    "\\begin{align}\n",
    "    \\mathcal{L}^{-1}\\{(s^{3} + 11s^{2} + 12s + 18)\\}Y(s) &= \\mathcal{L}^{-1}\\{(s+3)U(s)\\}\\\\\n",
    "    \\dddot{y} + 11\\ddot{y} + 12\\dot{y} + 18 &= \\dot{u} + 3u\n",
    "\\end{align}"
   ]
  },
  {
   "cell_type": "markdown",
   "metadata": {},
   "source": [
    "# Exercise 3\n",
    "\n",
    "Considering the following ODE:\n",
    "\n",
    "\\begin{align}\n",
    "    2\\ddot{y} + 6\\dot{y} + 4y &= \\dot{u} + 3u\\\\\n",
    "    2s^{2}Y(s) - sy(0) - \\dot{y}(0) + 6sY(s) - 6y(0) + 4Y(s) &= sU(s) + 3U(s)\n",
    "\\end{align}\n",
    "\n",
    "being $y(0) = 2, \\dot{y}(0) = 1$, we have:\n",
    "\n",
    "\\begin{align}\n",
    "    2s^{2}Y(s) - 2s - 1 + 6sY(s) - 6 + 4Y(s) &= sU(s) + 3U(s)\\\\\n",
    "    Y(s)\\{2s^{2} + 6s + 4\\} &= 2s + 1 + sU(s) + 3U(s)\\\\\n",
    "    Y(s) &= \\dfrac{2s + 1 + sU(s) + 3U(s)}{2s^{2} + 6s + 4}\n",
    "\\end{align}\n",
    "\n",
    "Also, considering as input $u(t) = 12e^{-4t}\\delta(t)$, its laplace transform is:\n",
    "\n",
    "\\begin{align}\n",
    "    U(s) &= \\int_{0}^{\\infty}12e^{-4t}e^{-st}\\delta(t)dt\\\\\n",
    "         &= 12\n",
    "\\end{align}\n",
    "\n",
    "Reapplying this to the $Y(s)$ expression:\n",
    "\n",
    "\\begin{align}\n",
    "    Y(s) &= \\dfrac{13s + 37}{2s^{2}+6s+4}\\\\\n",
    "         &= \\dfrac{1}{2}\\dfrac{13s + 37}{(s+2)(s+1)}\\\\\n",
    "         &= \\dfrac{1}{2}\\biggr(\\dfrac{24}{s+1} - \\dfrac{11}{s+2}\\biggr)\n",
    "\\end{align}\n",
    "\n",
    "Therefore, we conclude that $y(t) = 12e^{-t} - \\dfrac{11}{2}e^{-2t}$"
   ]
  }
 ],
 "metadata": {
  "kernelspec": {
   "display_name": "Python 3",
   "language": "python",
   "name": "python3"
  },
  "language_info": {
   "codemirror_mode": {
    "name": "ipython",
    "version": 3
   },
   "file_extension": ".py",
   "mimetype": "text/x-python",
   "name": "python",
   "nbconvert_exporter": "python",
   "pygments_lexer": "ipython3",
   "version": "3.6.3"
  }
 },
 "nbformat": 4,
 "nbformat_minor": 2
}
